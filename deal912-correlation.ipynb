{
 "cells": [
  {
   "cell_type": "code",
   "execution_count": 96,
   "id": "ed76b8fb-7b05-4319-93c6-34fdadb97f36",
   "metadata": {},
   "outputs": [],
   "source": [
    "setwd('/import/DB/fel/BJTC-204')"
   ]
  },
  {
   "cell_type": "code",
   "execution_count": 97,
   "id": "ce6c29b5-3366-40f2-ab8c-bb505250eff0",
   "metadata": {},
   "outputs": [],
   "source": [
    "load('testset1.rda')"
   ]
  },
  {
   "cell_type": "code",
   "execution_count": 98,
   "id": "3287bbac-34f2-4b4e-8ad1-9a6ce8578a3e",
   "metadata": {},
   "outputs": [],
   "source": [
    "# expr1  = expr3 %>%  dplyr::filter(SYMBOL %in%  c('H4C3','PRSS3','TUSC3')) %>%   \n",
    "# tibble::remove_rownames() %>%  tibble::column_to_rownames(.,'SYMBOL')  %>%t() %>%\n",
    "# as.data.frame()"
   ]
  },
  {
   "cell_type": "code",
   "execution_count": 99,
   "id": "e6edd851-1ce3-440c-8889-a3e9521fa4f5",
   "metadata": {},
   "outputs": [],
   "source": [
    "count = count %>% t() %>%  as.data.frame()"
   ]
  },
  {
   "cell_type": "code",
   "execution_count": 100,
   "id": "cd8734d5-b625-428d-ae38-a9b0af93041d",
   "metadata": {},
   "outputs": [],
   "source": [
    "count = log2(edgeR::cpm(count) + 1)"
   ]
  },
  {
   "cell_type": "code",
   "execution_count": 101,
   "id": "9821b7f4-10c6-40f1-a172-458e925b62ec",
   "metadata": {},
   "outputs": [],
   "source": [
    "load('testset1.bys.rda')"
   ]
  },
  {
   "cell_type": "code",
   "execution_count": 102,
   "id": "ff757a6a-2b6a-4b13-93bd-2a77292d830a",
   "metadata": {
    "scrolled": true
   },
   "outputs": [],
   "source": [
    "library(dplyr)"
   ]
  },
  {
   "cell_type": "code",
   "execution_count": 103,
   "id": "63f89b86-1516-484e-b5cc-86dbc441b54a",
   "metadata": {},
   "outputs": [],
   "source": [
    "cells = dataset[,c(1,7:13)] %>% tibble::remove_rownames() %>%  tibble::column_to_rownames(.,'sample')"
   ]
  },
  {
   "cell_type": "code",
   "execution_count": 104,
   "id": "2eb826df-a05e-43b0-864c-a06c235ce0b9",
   "metadata": {},
   "outputs": [
    {
     "data": {
      "text/html": [
       "<table class=\"dataframe\">\n",
       "<caption>A data.frame: 2 x 7</caption>\n",
       "<thead>\n",
       "\t<tr><th></th><th scope=col>Mic</th><th scope=col>ExN</th><th scope=col>InN</th><th scope=col>Oli</th><th scope=col>Ast</th><th scope=col>OPC</th><th scope=col>End</th></tr>\n",
       "\t<tr><th></th><th scope=col>&lt;dbl&gt;</th><th scope=col>&lt;dbl&gt;</th><th scope=col>&lt;dbl&gt;</th><th scope=col>&lt;dbl&gt;</th><th scope=col>&lt;dbl&gt;</th><th scope=col>&lt;dbl&gt;</th><th scope=col>&lt;dbl&gt;</th></tr>\n",
       "</thead>\n",
       "<tbody>\n",
       "\t<tr><th scope=row>SL32230</th><td>5.180164e-07</td><td>0.9045109</td><td>2.806284e-06</td><td>1.204192e-06</td><td>0.04933491</td><td>5.418089e-07</td><td>0.04614911</td></tr>\n",
       "\t<tr><th scope=row>SL32231</th><td>2.409669e-03</td><td>0.8639261</td><td>2.739055e-05</td><td>4.220033e-02</td><td>0.04040271</td><td>6.863051e-06</td><td>0.05102690</td></tr>\n",
       "</tbody>\n",
       "</table>\n"
      ],
      "text/latex": [
       "A data.frame: 2 x 7\n",
       "\\begin{tabular}{r|lllllll}\n",
       "  & Mic & ExN & InN & Oli & Ast & OPC & End\\\\\n",
       "  & <dbl> & <dbl> & <dbl> & <dbl> & <dbl> & <dbl> & <dbl>\\\\\n",
       "\\hline\n",
       "\tSL32230 & 5.180164e-07 & 0.9045109 & 2.806284e-06 & 1.204192e-06 & 0.04933491 & 5.418089e-07 & 0.04614911\\\\\n",
       "\tSL32231 & 2.409669e-03 & 0.8639261 & 2.739055e-05 & 4.220033e-02 & 0.04040271 & 6.863051e-06 & 0.05102690\\\\\n",
       "\\end{tabular}\n"
      ],
      "text/markdown": [
       "\n",
       "A data.frame: 2 x 7\n",
       "\n",
       "| <!--/--> | Mic &lt;dbl&gt; | ExN &lt;dbl&gt; | InN &lt;dbl&gt; | Oli &lt;dbl&gt; | Ast &lt;dbl&gt; | OPC &lt;dbl&gt; | End &lt;dbl&gt; |\n",
       "|---|---|---|---|---|---|---|---|\n",
       "| SL32230 | 5.180164e-07 | 0.9045109 | 2.806284e-06 | 1.204192e-06 | 0.04933491 | 5.418089e-07 | 0.04614911 |\n",
       "| SL32231 | 2.409669e-03 | 0.8639261 | 2.739055e-05 | 4.220033e-02 | 0.04040271 | 6.863051e-06 | 0.05102690 |\n",
       "\n"
      ],
      "text/plain": [
       "        Mic          ExN       InN          Oli          Ast       \n",
       "SL32230 5.180164e-07 0.9045109 2.806284e-06 1.204192e-06 0.04933491\n",
       "SL32231 2.409669e-03 0.8639261 2.739055e-05 4.220033e-02 0.04040271\n",
       "        OPC          End       \n",
       "SL32230 5.418089e-07 0.04614911\n",
       "SL32231 6.863051e-06 0.05102690"
      ]
     },
     "metadata": {},
     "output_type": "display_data"
    }
   ],
   "source": [
    "head(cells,2)"
   ]
  },
  {
   "cell_type": "code",
   "execution_count": 105,
   "id": "130208a7-1acc-47af-980f-0f71269223be",
   "metadata": {},
   "outputs": [],
   "source": [
    "cells = cells[rownames(count),]"
   ]
  },
  {
   "cell_type": "code",
   "execution_count": 106,
   "id": "fb31c8a6-c6e8-41c4-a584-e76a88f40c56",
   "metadata": {
    "scrolled": true
   },
   "outputs": [],
   "source": [
    "library(linkET)"
   ]
  },
  {
   "cell_type": "code",
   "execution_count": 107,
   "id": "bafa94d7-876c-4424-b713-9cdd59fddb22",
   "metadata": {},
   "outputs": [],
   "source": [
    "library(ggplot2)"
   ]
  },
  {
   "cell_type": "code",
   "execution_count": 113,
   "id": "a7c0d2c0-7a45-451c-aa35-7f8d196fa8f3",
   "metadata": {},
   "outputs": [],
   "source": [
    "cor_res <- correlate(count, cells,method = \"spearman\")\n",
    "  \n",
    "# qcorrplot(cor_res) +\n",
    "#   geom_square() +\n",
    "#   scale_fill_gradientn(colours = RColorBrewer::brewer.pal(11, \"RdBu\"))"
   ]
  },
  {
   "cell_type": "code",
   "execution_count": 114,
   "id": "5919c297-3ca8-4e69-9bc9-876da35f8495",
   "metadata": {},
   "outputs": [],
   "source": [
    "options(repr.plot.width = 12,repr.plot.height = 4)"
   ]
  },
  {
   "cell_type": "code",
   "execution_count": 115,
   "id": "6b5f18ab-b27e-419d-a0bf-3bbc84be85ad",
   "metadata": {},
   "outputs": [],
   "source": [
    "library(tidyr)"
   ]
  },
  {
   "cell_type": "code",
   "execution_count": 116,
   "id": "360a1c14-2750-4dc2-a00e-9ea710d3d9c3",
   "metadata": {},
   "outputs": [],
   "source": [
    "library(tibble)"
   ]
  },
  {
   "cell_type": "code",
   "execution_count": 117,
   "id": "55257f4e-657f-4786-a5fb-8b19f0d7ebd1",
   "metadata": {},
   "outputs": [
    {
     "name": "stderr",
     "output_type": "stream",
     "text": [
      "\u001b[1m\u001b[22mJoining with `by = join_by(gene, cell_type)`\n"
     ]
    },
    {
     "data": {
      "text/html": [
       "<table class=\"dataframe\">\n",
       "<caption>A tibble: 6 x 5</caption>\n",
       "<thead>\n",
       "\t<tr><th scope=col>gene</th><th scope=col>cell_type</th><th scope=col>correlation</th><th scope=col>pvalue</th><th scope=col>stars</th></tr>\n",
       "\t<tr><th scope=col>&lt;chr&gt;</th><th scope=col>&lt;chr&gt;</th><th scope=col>&lt;dbl&gt;</th><th scope=col>&lt;dbl&gt;</th><th scope=col>&lt;fct&gt;</th></tr>\n",
       "</thead>\n",
       "<tbody>\n",
       "\t<tr><td>H4C3</td><td>Mic</td><td> 0.04881519</td><td>0.77102194</td><td> </td></tr>\n",
       "\t<tr><td>H4C3</td><td>ExN</td><td> 0.07508346</td><td>0.65414059</td><td> </td></tr>\n",
       "\t<tr><td>H4C3</td><td>InN</td><td> 0.34181581</td><td>0.03569038</td><td>*</td></tr>\n",
       "\t<tr><td>H4C3</td><td>Oli</td><td>-0.30558749</td><td>0.06207637</td><td> </td></tr>\n",
       "\t<tr><td>H4C3</td><td>Ast</td><td> 0.01083566</td><td>0.94851956</td><td> </td></tr>\n",
       "\t<tr><td>H4C3</td><td>OPC</td><td> 0.39413344</td><td>0.01434665</td><td>*</td></tr>\n",
       "</tbody>\n",
       "</table>\n"
      ],
      "text/latex": [
       "A tibble: 6 x 5\n",
       "\\begin{tabular}{lllll}\n",
       " gene & cell\\_type & correlation & pvalue & stars\\\\\n",
       " <chr> & <chr> & <dbl> & <dbl> & <fct>\\\\\n",
       "\\hline\n",
       "\t H4C3 & Mic &  0.04881519 & 0.77102194 &  \\\\\n",
       "\t H4C3 & ExN &  0.07508346 & 0.65414059 &  \\\\\n",
       "\t H4C3 & InN &  0.34181581 & 0.03569038 & *\\\\\n",
       "\t H4C3 & Oli & -0.30558749 & 0.06207637 &  \\\\\n",
       "\t H4C3 & Ast &  0.01083566 & 0.94851956 &  \\\\\n",
       "\t H4C3 & OPC &  0.39413344 & 0.01434665 & *\\\\\n",
       "\\end{tabular}\n"
      ],
      "text/markdown": [
       "\n",
       "A tibble: 6 x 5\n",
       "\n",
       "| gene &lt;chr&gt; | cell_type &lt;chr&gt; | correlation &lt;dbl&gt; | pvalue &lt;dbl&gt; | stars &lt;fct&gt; |\n",
       "|---|---|---|---|---|\n",
       "| H4C3 | Mic |  0.04881519 | 0.77102194 | <!----> |\n",
       "| H4C3 | ExN |  0.07508346 | 0.65414059 | <!----> |\n",
       "| H4C3 | InN |  0.34181581 | 0.03569038 | * |\n",
       "| H4C3 | Oli | -0.30558749 | 0.06207637 | <!----> |\n",
       "| H4C3 | Ast |  0.01083566 | 0.94851956 | <!----> |\n",
       "| H4C3 | OPC |  0.39413344 | 0.01434665 | * |\n",
       "\n"
      ],
      "text/plain": [
       "  gene cell_type correlation pvalue     stars\n",
       "1 H4C3 Mic        0.04881519 0.77102194      \n",
       "2 H4C3 ExN        0.07508346 0.65414059      \n",
       "3 H4C3 InN        0.34181581 0.03569038 *    \n",
       "4 H4C3 Oli       -0.30558749 0.06207637      \n",
       "5 H4C3 Ast        0.01083566 0.94851956      \n",
       "6 H4C3 OPC        0.39413344 0.01434665 *    "
      ]
     },
     "metadata": {},
     "output_type": "display_data"
    }
   ],
   "source": [
    "df_r <- cor_res$r %>% \n",
    "  as.data.frame() %>% \n",
    "  rownames_to_column(var = \"gene\") %>% \n",
    "  pivot_longer(-1,names_to = \"cell_type\",values_to = \"correlation\")\n",
    "\n",
    "df_p <- cor_res$p %>% \n",
    "  as.data.frame() %>% \n",
    "  rownames_to_column(var = \"gene\") %>% \n",
    "  pivot_longer(-1,names_to = \"cell_type\",values_to = \"pvalue\")\n",
    "\n",
    "df_cor <- df_r %>% \n",
    "  left_join(df_p) %>% \n",
    "  mutate(stars = cut(pvalue,breaks = c(-Inf,0.05,0.01,0.001,Inf),right = F,labels = c(\"***\",\"**\",\"*\",\" \")))\n",
    "## Joining with `by = join_by(gene, cell_type)`\n",
    "\n",
    "head(df_cor)"
   ]
  },
  {
   "cell_type": "code",
   "execution_count": 120,
   "id": "cc7017b9-e47a-4f2e-8bad-a708fbebe0e4",
   "metadata": {},
   "outputs": [
    {
     "data": {
      "image/png": "[encoded data removed]",
      "text/plain": [
       "plot without title"
      ]
     },
     "metadata": {
      "image/png": {
       "height": 240,
       "width": 720
      }
     },
     "output_type": "display_data"
    }
   ],
   "source": [
    "library(ggplot2)\n",
    "\n",
    "ggplot(df_cor, aes(cell_type,gene))+\n",
    "  geom_tile(aes(fill=correlation))+\n",
    "  geom_text(aes(label=stars), color=\"black\", size=4)+\n",
    "  scale_fill_gradient2(low='#67B26F', high='#F2AA9D',mid = 'white',\n",
    "                      limit=c(-1,1),name=paste0(\"*    p < 0.05\",\"\\n\\n\",\"**  p < 0.01\",\"\\n\\n\",\"*** p < 0.001\",\"\\n\\n\",\"Correlation\"))+\n",
    "  labs(x=NULL,y=NULL)+\n",
    "  theme(axis.text.x = element_text(size=13,angle = 45,hjust = 1,color = \"black\"),\n",
    "        axis.text.y = element_text(size=13,color = \"black\"),\n",
    "        axis.ticks.y = element_blank(),\n",
    "        panel.background=element_blank())"
   ]
  },
  {
   "cell_type": "code",
   "execution_count": 122,
   "id": "ef68e427-adbc-45f1-b313-35b9b2a90d28",
   "metadata": {},
   "outputs": [],
   "source": [
    "ggsave('./figure/model.gene.cor.cells.pdf',width = 6,height = 3)"
   ]
  },
  {
   "cell_type": "code",
   "execution_count": 123,
   "id": "a29dbd40-44ea-4e7f-91dc-705aaf32a4ac",
   "metadata": {},
   "outputs": [],
   "source": [
    "for (i in colnames(count)){\n",
    "df_egfr <- df_cor %>% \n",
    "  filter(gene==i) %>% dplyr::select(cell_type,correlation,pvalue)\n",
    "colnames(df_egfr)[c(1,2)]= c('Cell','cor')\n",
    "data = df_egfr\n",
    "colnames(data)\n",
    "p.col = c('gold','pink','orange','LimeGreen','darkgreen')\n",
    "fcolor = function(x,p.col){\n",
    "  color = ifelse(x>0.8,p.col[1],ifelse(x>0.6,p.col[2],ifelse(x>0.4,p.col[3],\n",
    "                ifelse(x>0.2,p.col[4], p.col[5])\n",
    "                )))\n",
    "  return(color)\n",
    "}\n",
    "p.cex = seq(2.5, 5.5, length=5)\n",
    "fcex = function(x){\n",
    "  x=abs(x)\n",
    "  cex = ifelse(x<0.1,p.cex[1],ifelse(x<0.2,p.cex[2],ifelse(x<0.3,p.cex[3],\n",
    "              ifelse(x<0.4,p.cex[4],p.cex[5]))))\n",
    "  return(cex)\n",
    "}\n",
    "points.color = fcolor(x=data$pvalue,p.col=p.col)\n",
    "data$points.color = points.color\n",
    "points.cex = fcex(x=data$cor)\n",
    "data$points.cex = points.cex\n",
    "data=data[order(data$cor),]\n",
    "\n",
    "xlim = ceiling(max(abs(data$cor))*10)/10\n",
    "pdf(file=paste0('./figure/',i,\".pdf\"), width=9, height=7)\n",
    "layout(mat=matrix(c(1,1,1,1,1,0,2,0,3,0),nc=2),width=c(8,2.2),heights=c(1,2,1,2,1))\n",
    "par(bg=\"white\",las=1,mar=c(5,18,2,4),cex.axis=1.5,cex.lab=2)\n",
    "plot(1,type=\"n\",xlim=c(-xlim,xlim),ylim=c(0.5,nrow(data)+0.5),xlab=\"Correlation Coefficient\",ylab=\"\",yaxt=\"n\",yaxs=\"i\",axes=F)\n",
    "rect(par('usr')[1],par('usr')[3],par('usr')[2],par('usr')[4],col=\"#F5F5F5\",border=\"#F5F5F5\")\n",
    "grid(ny=nrow(data),col=\"white\",lty=1,lwd=2)\n",
    "segments(x0=data$cor,y0=1:nrow(data),x1=0,y1=1:nrow(data),lwd=4)\n",
    "points(x=data$cor,y = 1:nrow(data),col = data$points.color,pch=16,cex=data$points.cex)\n",
    "text(par('usr')[1],1:nrow(data),data$Cell,adj=1,xpd=T,cex=1.5)\n",
    "\n",
    "pvalue.text=ifelse(data$pvalue<0.001,'<0.001',sprintf(\"%.03f\",data$pvalue))\n",
    "redcutoff_cor=0\n",
    "redcutoff_pvalue=0.05\n",
    "text(par('usr')[2],1:nrow(data),pvalue.text,adj=0,xpd=T,col=ifelse(abs(data$cor)>redcutoff_cor & data$pvalue<redcutoff_pvalue,\"red\",\"black\"),cex=1.5)\n",
    "axis(1,tick=F)\n",
    "par(mar=c(0,4,3,4))\n",
    "plot(1,type=\"n\",axes=F,xlab=\"\",ylab=\"\")\n",
    "legend(\"left\",legend=c(0.1,0.2,0.3,0.4,0.5),col=\"black\",pt.cex=p.cex,pch=16,bty=\"n\",cex=2,title=\"abs(cor)\")\n",
    "par(mar=c(0,6,4,6),cex.axis=1.5,cex.main=2)\n",
    "barplot(rep(1,5),horiz=T,space=0,border=NA,col=p.col,xaxt=\"n\",yaxt=\"n\",xlab=\"\",ylab=\"\",main=\"pvalue\")\n",
    "axis(4,at=0:5,c(1,0.8,0.6,0.4,0.2,0),tick=F)\n",
    "dev.off()\n",
    "    \n",
    "}"
   ]
  },
  {
   "cell_type": "code",
   "execution_count": null,
   "id": "50a0766f-1910-4c20-9d09-454d6a51c5b5",
   "metadata": {},
   "outputs": [],
   "source": []
  }
 ],
 "metadata": {
  "kernelspec": {
   "display_name": "R",
   "language": "R",
   "name": "ir"
  },
  "language_info": {
   "codemirror_mode": "r",
   "file_extension": ".r",
   "mimetype": "text/x-r-source",
   "name": "R",
   "pygments_lexer": "r",
   "version": "4.2.2"
  }
 },
 "nbformat": 4,
 "nbformat_minor": 5
}
