{
 "cells": [
  {
   "cell_type": "code",
   "execution_count": 3,
   "id": "8c7d760f-41ae-48cf-b6f0-d6f2f80f7ae9",
   "metadata": {},
   "outputs": [],
   "source": [
    "setwd('/import/DB/minidir//a.fel/BJTC-204')\n",
    "scRNA = readRDS('/import/DB/minidir//a.fel/final.rds')"
   ]
  },
  {
   "cell_type": "code",
   "execution_count": 4,
   "id": "4287ed22-37b6-43c7-b3f3-6be4b54bfd3c",
   "metadata": {},
   "outputs": [
    {
     "name": "stderr",
     "output_type": "stream",
     "text": [
      "Warning message:\n",
      "\"package 'Seurat' was built under R version 4.2.3\"\n",
      "The legacy packages maptools, rgdal, and rgeos, underpinning the sp package,\n",
      "which was just loaded, will retire in October 2023.\n",
      "Please refer to R-spatial evolution reports for details, especially\n",
      "https://r-spatial.org/r/2023/05/15/evolution4.html.\n",
      "It may be desirable to make the sf package available;\n",
      "package maintainers should consider adding sf to Suggests:.\n",
      "The sp package is now running under evolution status 2\n",
      "     (status 2 uses the sf package in place of rgdal)\n",
      "\n",
      "Attaching SeuratObject\n",
      "\n"
     ]
    }
   ],
   "source": [
    "library(Seurat)"
   ]
  },
  {
   "cell_type": "code",
   "execution_count": 5,
   "id": "2ad3eda9-0e52-4ad3-ad3a-38e9e9f119a9",
   "metadata": {},
   "outputs": [
    {
     "data": {
      "text/plain": [
       "An object of class Seurat \n",
       "33562 features across 160711 samples within 1 assay \n",
       "Active assay: RNA (33562 features, 0 variable features)\n",
       " 1 dimensional reduction calculated: umap"
      ]
     },
     "metadata": {},
     "output_type": "display_data"
    }
   ],
   "source": [
    "scRNA"
   ]
  },
  {
   "cell_type": "code",
   "execution_count": 6,
   "id": "5dbd2cd6-ba06-41d1-b722-16269a02ac44",
   "metadata": {},
   "outputs": [
    {
     "data": {
      "text/html": [
       "<style>\n",
       ".list-inline {list-style: none; margin:0; padding: 0}\n",
       ".list-inline>li {display: inline-block}\n",
       ".list-inline>li:not(:last-child)::after {content: \"\\00b7\"; padding: 0 .5ex}\n",
       "</style>\n",
       "<ol class=list-inline><li>Mic</li><li>ExN</li><li>InN</li><li>Oli</li><li>Ast</li><li>OPC</li><li>Mix</li><li>End</li></ol>\n",
       "\n",
       "<details>\n",
       "\t<summary style=display:list-item;cursor:pointer>\n",
       "\t\t<strong>Levels</strong>:\n",
       "\t</summary>\n",
       "\t<style>\n",
       "\t.list-inline {list-style: none; margin:0; padding: 0}\n",
       "\t.list-inline>li {display: inline-block}\n",
       "\t.list-inline>li:not(:last-child)::after {content: \"\\00b7\"; padding: 0 .5ex}\n",
       "\t</style>\n",
       "\t<ol class=list-inline><li>'Ast'</li><li>'End'</li><li>'ExN'</li><li>'InN'</li><li>'Mic'</li><li>'Mix'</li><li>'OPC'</li><li>'Oli'</li></ol>\n",
       "</details>"
      ],
      "text/latex": [
       "\\begin{enumerate*}\n",
       "\\item Mic\n",
       "\\item ExN\n",
       "\\item InN\n",
       "\\item Oli\n",
       "\\item Ast\n",
       "\\item OPC\n",
       "\\item Mix\n",
       "\\item End\n",
       "\\end{enumerate*}\n",
       "\n",
       "\\emph{Levels}: \\begin{enumerate*}\n",
       "\\item 'Ast'\n",
       "\\item 'End'\n",
       "\\item 'ExN'\n",
       "\\item 'InN'\n",
       "\\item 'Mic'\n",
       "\\item 'Mix'\n",
       "\\item 'OPC'\n",
       "\\item 'Oli'\n",
       "\\end{enumerate*}\n"
      ],
      "text/markdown": [
       "1. Mic\n",
       "2. ExN\n",
       "3. InN\n",
       "4. Oli\n",
       "5. Ast\n",
       "6. OPC\n",
       "7. Mix\n",
       "8. End\n",
       "\n",
       "\n",
       "\n",
       "**Levels**: 1. 'Ast'\n",
       "2. 'End'\n",
       "3. 'ExN'\n",
       "4. 'InN'\n",
       "5. 'Mic'\n",
       "6. 'Mix'\n",
       "7. 'OPC'\n",
       "8. 'Oli'\n",
       "\n",
       "\n"
      ],
      "text/plain": [
       "[1] Mic ExN InN Oli Ast OPC Mix End\n",
       "Levels: Ast End ExN InN Mic Mix OPC Oli"
      ]
     },
     "metadata": {},
     "output_type": "display_data"
    }
   ],
   "source": [
    "unique(scRNA$celltype)"
   ]
  },
  {
   "cell_type": "code",
   "execution_count": 7,
   "id": "b855f5c5-8def-4372-bb90-229720152677",
   "metadata": {},
   "outputs": [],
   "source": [
    "Idents(scRNA) = 'celltype'"
   ]
  },
  {
   "cell_type": "code",
   "execution_count": 8,
   "id": "94c89967-0a8c-41ba-bfc5-fe61842206fb",
   "metadata": {},
   "outputs": [],
   "source": [
    "scedata = subset(scRNA,idents = c('Mic','ExN','InN','Oli','Ast','OPC','End'))"
   ]
  },
  {
   "cell_type": "code",
   "execution_count": 9,
   "id": "d420366e-fad8-445a-acf0-3b880ee1c379",
   "metadata": {},
   "outputs": [
    {
     "data": {
      "text/html": [
       "0"
      ],
      "text/latex": [
       "0"
      ],
      "text/markdown": [
       "0"
      ],
      "text/plain": [
       "[1] 0"
      ]
     },
     "metadata": {},
     "output_type": "display_data"
    }
   ],
   "source": [
    "unique(scedata$orig.ident)"
   ]
  },
  {
   "cell_type": "code",
   "execution_count": 10,
   "id": "1fab2365-ad05-49fa-84e1-22702be591e5",
   "metadata": {},
   "outputs": [],
   "source": [
    "Idents(scedata) = 'group'"
   ]
  },
  {
   "cell_type": "code",
   "execution_count": 11,
   "id": "f5d20754-79d4-470a-acc2-f7adeeed982f",
   "metadata": {},
   "outputs": [],
   "source": [
    "scedata = subset(scedata,idents = 'M')"
   ]
  },
  {
   "cell_type": "code",
   "execution_count": 12,
   "id": "89e9f9d1-fe8a-444f-9b30-4e2edee0b831",
   "metadata": {},
   "outputs": [],
   "source": [
    "Idents(scedata) = 'celltype'"
   ]
  },
  {
   "cell_type": "code",
   "execution_count": 13,
   "id": "4c0ce8cd-eb3d-46f5-937a-2ebe213ff942",
   "metadata": {},
   "outputs": [],
   "source": [
    "scedata$orig.ident = scedata$sample"
   ]
  },
  {
   "cell_type": "code",
   "execution_count": 14,
   "id": "56c58096-0674-4d4e-bbc9-67e1ff88edad",
   "metadata": {},
   "outputs": [],
   "source": [
    "scedata$orig.ident = factor(scedata$orig.ident,levels = unique(scedata$orig.ident))"
   ]
  },
  {
   "cell_type": "code",
   "execution_count": 15,
   "id": "f9f2b211-8014-4fe1-846b-925e347b234f",
   "metadata": {},
   "outputs": [
    {
     "data": {
      "text/plain": [
       "\n",
       "   M1   M10   M11   M12   M13   M14   M15   M16   M17   M18   M19    M2   M20 \n",
       " 2808  2516  3879  2045  2099  1830  3788  1269  3550  1555  2560  2013  4346 \n",
       "  M21   M22   M23   M24 M24_2   M26   M27   M28   M29    M3   M30   M31   M32 \n",
       " 2109  2097  4024   668   645  1931  1173  2370  2050  1362  2152  3293  2549 \n",
       "  M33   M34    M4    M5    M6    M7    M8    M9 \n",
       " 2355  3174  2413  1271  2655  2246  1882  1302 "
      ]
     },
     "metadata": {},
     "output_type": "display_data"
    },
    {
     "data": {
      "text/plain": [
       "\n",
       "        Ast         End         ExN         InN         Mic         OPC \n",
       "0.071839854 0.005283474 0.564998269 0.225688968 0.010784955 0.046409931 \n",
       "        Oli \n",
       "0.074994550 "
      ]
     },
     "metadata": {},
     "output_type": "display_data"
    },
    {
     "data": {
      "text/plain": [
       "     \n",
       "        M1  M10  M11  M12  M13  M14  M15  M16  M17  M18  M19   M2  M20  M21\n",
       "  Ast   16   23  622  337  263    8  419  119  109   46  197  387  292   74\n",
       "  End    9   16   27   26   11   13   39    7    1   19   16    4   32    9\n",
       "  ExN 1860 1594 2081  714 1118 1072 1938  480 2467  818 1537 1193 1979 1265\n",
       "  InN  707  383  618  344  413  553  776  482  809  359  563  297  728  364\n",
       "  Mic    8   27   49   51   10   64   16   16   13   39    5    7  101   11\n",
       "  OPC  138  130  117  197  106   57  272  140   63  107  161   49  248  149\n",
       "  Oli   70  343  365  376  178   63  328   25   88  167   81   76  966  237\n",
       "     \n",
       "       M22  M23  M24 M24_2  M26  M27  M28  M29   M3  M30  M31  M32  M33  M34\n",
       "  Ast   50   14    6     2  129  195   70  107  301   29  465   88  284   29\n",
       "  End    6    2    3     3    6    3    1   29   10   11    6   25   11    3\n",
       "  ExN 1386 3439  359   401  859  435 1616  995  408 1377 1573 1438  770 2165\n",
       "  InN  489  491  237   227  704  343  414  604  412  567  623  667  886  783\n",
       "  Mic   15    3    2     1   40    7   18   38   18    4   13   41   51   38\n",
       "  OPC   91    3   31     3  129   77   51  118   84   94  148  152  149   61\n",
       "  Oli   60   72   30     8   64  113  200  159  129   70  465  138  204   95\n",
       "     \n",
       "        M4   M5   M6   M7   M8   M9\n",
       "  Ast    8   40  297  290   84  202\n",
       "  End    4   10    6    5   19   20\n",
       "  ExN 1685  776 1343 1349 1122  446\n",
       "  InN  670  349  473  400  479  385\n",
       "  Mic   10    5   84    7   25    4\n",
       "  OPC    7   31  104   89  106  157\n",
       "  Oli   29   60  348  106   47   88"
      ]
     },
     "metadata": {},
     "output_type": "display_data"
    }
   ],
   "source": [
    "table(scedata$orig.ident)#\n",
    "prop.table(table(Idents(scedata)))\n",
    "table(Idents(scedata), scedata$orig.ident)"
   ]
  },
  {
   "cell_type": "code",
   "execution_count": 16,
   "id": "9ab229fb-08fb-4cbe-a6b5-c409102cf76d",
   "metadata": {},
   "outputs": [],
   "source": [
    "Cellratio <- prop.table(table(Idents(scedata), scedata$orig.ident), margin = 2)\n",
    "Cellratio <- data.frame(Cellratio)"
   ]
  },
  {
   "cell_type": "code",
   "execution_count": 17,
   "id": "5f719b0a-56cd-4d6f-8201-9dd00b5d1181",
   "metadata": {},
   "outputs": [
    {
     "name": "stderr",
     "output_type": "stream",
     "text": [
      "Warning message:\n",
      "\"package 'reshape2' was built under R version 4.2.3\"\n"
     ]
    }
   ],
   "source": [
    "library(reshape2)\n",
    "cellper <- dcast(Cellratio,Var2~Var1, value.var = \"Freq\"\n",
    "rownames(cellper) <- cellper[,1]\n",
    "cellper <- cellper[,-1]"
   ]
  },
  {
   "cell_type": "code",
   "execution_count": 18,
   "id": "f5b35f17-c93d-4170-b84a-1accc4d909c0",
   "metadata": {},
   "outputs": [],
   "source": [
    "sample <- rownames(cellper)"
   ]
  },
  {
   "cell_type": "code",
   "execution_count": 19,
   "id": "81ac9104-0188-4abf-90d9-ed8afa2f9c02",
   "metadata": {},
   "outputs": [
    {
     "data": {
      "text/html": [
       "<style>\n",
       ".list-inline {list-style: none; margin:0; padding: 0}\n",
       ".list-inline>li {display: inline-block}\n",
       ".list-inline>li:not(:last-child)::after {content: \"\\00b7\"; padding: 0 .5ex}\n",
       "</style>\n",
       "<ol class=list-inline><li>'M1'</li><li>'M10'</li><li>'M11'</li><li>'M12'</li><li>'M13'</li><li>'M14'</li><li>'M15'</li><li>'M16'</li><li>'M17'</li><li>'M18'</li><li>'M19'</li><li>'M2'</li><li>'M20'</li><li>'M21'</li><li>'M22'</li><li>'M23'</li><li>'M24'</li><li>'M24_2'</li><li>'M26'</li><li>'M27'</li><li>'M28'</li><li>'M29'</li><li>'M3'</li><li>'M30'</li><li>'M31'</li><li>'M32'</li><li>'M33'</li><li>'M34'</li><li>'M4'</li><li>'M5'</li><li>'M6'</li><li>'M7'</li><li>'M8'</li><li>'M9'</li></ol>\n"
      ],
      "text/latex": [
       "\\begin{enumerate*}\n",
       "\\item 'M1'\n",
       "\\item 'M10'\n",
       "\\item 'M11'\n",
       "\\item 'M12'\n",
       "\\item 'M13'\n",
       "\\item 'M14'\n",
       "\\item 'M15'\n",
       "\\item 'M16'\n",
       "\\item 'M17'\n",
       "\\item 'M18'\n",
       "\\item 'M19'\n",
       "\\item 'M2'\n",
       "\\item 'M20'\n",
       "\\item 'M21'\n",
       "\\item 'M22'\n",
       "\\item 'M23'\n",
       "\\item 'M24'\n",
       "\\item 'M24\\_2'\n",
       "\\item 'M26'\n",
       "\\item 'M27'\n",
       "\\item 'M28'\n",
       "\\item 'M29'\n",
       "\\item 'M3'\n",
       "\\item 'M30'\n",
       "\\item 'M31'\n",
       "\\item 'M32'\n",
       "\\item 'M33'\n",
       "\\item 'M34'\n",
       "\\item 'M4'\n",
       "\\item 'M5'\n",
       "\\item 'M6'\n",
       "\\item 'M7'\n",
       "\\item 'M8'\n",
       "\\item 'M9'\n",
       "\\end{enumerate*}\n"
      ],
      "text/markdown": [
       "1. 'M1'\n",
       "2. 'M10'\n",
       "3. 'M11'\n",
       "4. 'M12'\n",
       "5. 'M13'\n",
       "6. 'M14'\n",
       "7. 'M15'\n",
       "8. 'M16'\n",
       "9. 'M17'\n",
       "10. 'M18'\n",
       "11. 'M19'\n",
       "12. 'M2'\n",
       "13. 'M20'\n",
       "14. 'M21'\n",
       "15. 'M22'\n",
       "16. 'M23'\n",
       "17. 'M24'\n",
       "18. 'M24_2'\n",
       "19. 'M26'\n",
       "20. 'M27'\n",
       "21. 'M28'\n",
       "22. 'M29'\n",
       "23. 'M3'\n",
       "24. 'M30'\n",
       "25. 'M31'\n",
       "26. 'M32'\n",
       "27. 'M33'\n",
       "28. 'M34'\n",
       "29. 'M4'\n",
       "30. 'M5'\n",
       "31. 'M6'\n",
       "32. 'M7'\n",
       "33. 'M8'\n",
       "34. 'M9'\n",
       "\n",
       "\n"
      ],
      "text/plain": [
       " [1] \"M1\"    \"M10\"   \"M11\"   \"M12\"   \"M13\"   \"M14\"   \"M15\"   \"M16\"   \"M17\"  \n",
       "[10] \"M18\"   \"M19\"   \"M2\"    \"M20\"   \"M21\"   \"M22\"   \"M23\"   \"M24\"   \"M24_2\"\n",
       "[19] \"M26\"   \"M27\"   \"M28\"   \"M29\"   \"M3\"    \"M30\"   \"M31\"   \"M32\"   \"M33\"  \n",
       "[28] \"M34\"   \"M4\"    \"M5\"    \"M6\"    \"M7\"    \"M8\"    \"M9\"   "
      ]
     },
     "metadata": {},
     "output_type": "display_data"
    }
   ],
   "source": [
    "sample"
   ]
  },
  {
   "cell_type": "code",
   "execution_count": 20,
   "id": "50bdc1e3-22aa-444a-8cf9-90a70c1c13c1",
   "metadata": {},
   "outputs": [
    {
     "data": {
      "text/html": [
       "<style>\n",
       ".list-inline {list-style: none; margin:0; padding: 0}\n",
       ".list-inline>li {display: inline-block}\n",
       ".list-inline>li:not(:last-child)::after {content: \"\\00b7\"; padding: 0 .5ex}\n",
       "</style>\n",
       "<ol class=list-inline><li>'Case'</li><li>'Control'</li></ol>\n"
      ],
      "text/latex": [
       "\\begin{enumerate*}\n",
       "\\item 'Case'\n",
       "\\item 'Control'\n",
       "\\end{enumerate*}\n"
      ],
      "text/markdown": [
       "1. 'Case'\n",
       "2. 'Control'\n",
       "\n",
       "\n"
      ],
      "text/plain": [
       "[1] \"Case\"    \"Control\""
      ]
     },
     "metadata": {},
     "output_type": "display_data"
    }
   ],
   "source": [
    "unique(scedata$Condition)"
   ]
  },
  {
   "cell_type": "code",
   "execution_count": 21,
   "id": "29869317-39b1-43f2-bffa-72310ec16da7",
   "metadata": {},
   "outputs": [
    {
     "data": {
      "text/html": [
       "<style>\n",
       ".list-inline {list-style: none; margin:0; padding: 0}\n",
       ".list-inline>li {display: inline-block}\n",
       ".list-inline>li:not(:last-child)::after {content: \"\\00b7\"; padding: 0 .5ex}\n",
       "</style>\n",
       "<ol class=list-inline><li>'M1'</li><li>'M10'</li><li>'M11'</li><li>'M12'</li><li>'M13'</li><li>'M14'</li><li>'M15'</li><li>'M16'</li><li>'M17'</li><li>'M18'</li><li>'M19'</li><li>'M2'</li><li>'M20'</li><li>'M21'</li><li>'M22'</li><li>'M23'</li><li>'M24'</li><li>'M24_2'</li><li>'M26'</li><li>'M27'</li><li>'M28'</li><li>'M29'</li><li>'M3'</li><li>'M30'</li><li>'M31'</li><li>'M32'</li><li>'M33'</li><li>'M34'</li><li>'M4'</li><li>'M5'</li><li>'M6'</li><li>'M7'</li><li>'M8'</li><li>'M9'</li></ol>\n"
      ],
      "text/latex": [
       "\\begin{enumerate*}\n",
       "\\item 'M1'\n",
       "\\item 'M10'\n",
       "\\item 'M11'\n",
       "\\item 'M12'\n",
       "\\item 'M13'\n",
       "\\item 'M14'\n",
       "\\item 'M15'\n",
       "\\item 'M16'\n",
       "\\item 'M17'\n",
       "\\item 'M18'\n",
       "\\item 'M19'\n",
       "\\item 'M2'\n",
       "\\item 'M20'\n",
       "\\item 'M21'\n",
       "\\item 'M22'\n",
       "\\item 'M23'\n",
       "\\item 'M24'\n",
       "\\item 'M24\\_2'\n",
       "\\item 'M26'\n",
       "\\item 'M27'\n",
       "\\item 'M28'\n",
       "\\item 'M29'\n",
       "\\item 'M3'\n",
       "\\item 'M30'\n",
       "\\item 'M31'\n",
       "\\item 'M32'\n",
       "\\item 'M33'\n",
       "\\item 'M34'\n",
       "\\item 'M4'\n",
       "\\item 'M5'\n",
       "\\item 'M6'\n",
       "\\item 'M7'\n",
       "\\item 'M8'\n",
       "\\item 'M9'\n",
       "\\end{enumerate*}\n"
      ],
      "text/markdown": [
       "1. 'M1'\n",
       "2. 'M10'\n",
       "3. 'M11'\n",
       "4. 'M12'\n",
       "5. 'M13'\n",
       "6. 'M14'\n",
       "7. 'M15'\n",
       "8. 'M16'\n",
       "9. 'M17'\n",
       "10. 'M18'\n",
       "11. 'M19'\n",
       "12. 'M2'\n",
       "13. 'M20'\n",
       "14. 'M21'\n",
       "15. 'M22'\n",
       "16. 'M23'\n",
       "17. 'M24'\n",
       "18. 'M24_2'\n",
       "19. 'M26'\n",
       "20. 'M27'\n",
       "21. 'M28'\n",
       "22. 'M29'\n",
       "23. 'M3'\n",
       "24. 'M30'\n",
       "25. 'M31'\n",
       "26. 'M32'\n",
       "27. 'M33'\n",
       "28. 'M34'\n",
       "29. 'M4'\n",
       "30. 'M5'\n",
       "31. 'M6'\n",
       "32. 'M7'\n",
       "33. 'M8'\n",
       "34. 'M9'\n",
       "\n",
       "\n"
      ],
      "text/plain": [
       " [1] \"M1\"    \"M10\"   \"M11\"   \"M12\"   \"M13\"   \"M14\"   \"M15\"   \"M16\"   \"M17\"  \n",
       "[10] \"M18\"   \"M19\"   \"M2\"    \"M20\"   \"M21\"   \"M22\"   \"M23\"   \"M24\"   \"M24_2\"\n",
       "[19] \"M26\"   \"M27\"   \"M28\"   \"M29\"   \"M3\"    \"M30\"   \"M31\"   \"M32\"   \"M33\"  \n",
       "[28] \"M34\"   \"M4\"    \"M5\"    \"M6\"    \"M7\"    \"M8\"    \"M9\"   "
      ]
     },
     "metadata": {},
     "output_type": "display_data"
    }
   ],
   "source": [
    "sample"
   ]
  },
  {
   "cell_type": "code",
   "execution_count": 22,
   "id": "ca8b5761-ec38-4b96-8e08-3fff83c248fe",
   "metadata": {},
   "outputs": [],
   "source": [
    "ss = scedata@meta.data"
   ]
  },
  {
   "cell_type": "code",
   "execution_count": 23,
   "id": "4f47a915-d5a2-4aad-bf3f-76f899b1284b",
   "metadata": {},
   "outputs": [],
   "source": [
    "ss1 = ss[!duplicated(ss$orig.ident),]"
   ]
  },
  {
   "cell_type": "code",
   "execution_count": 24,
   "id": "ccc0d643-d354-4831-97ab-5dd58f59827b",
   "metadata": {},
   "outputs": [
    {
     "name": "stderr",
     "output_type": "stream",
     "text": [
      "\n",
      "Attaching package: 'dplyr'\n",
      "\n",
      "\n",
      "The following objects are masked from 'package:stats':\n",
      "\n",
      "    filter, lag\n",
      "\n",
      "\n",
      "The following objects are masked from 'package:base':\n",
      "\n",
      "    intersect, setdiff, setequal, union\n",
      "\n",
      "\n",
      "Warning message:\n",
      "\"package 'ggpubr' was built under R version 4.2.3\"\n",
      "\n",
      "Attaching package: 'ggpubr'\n",
      "\n",
      "\n",
      "The following object is masked from 'package:cowplot':\n",
      "\n",
      "    get_legend\n",
      "\n",
      "\n"
     ]
    }
   ],
   "source": [
    "group <- ss1$Condition\n",
    "\n",
    "\n",
    "samples <- data.frame(sample, group)\n",
    "\n",
    "rownames(samples)=samples$sample\n",
    "cellper$sample <- samples[rownames(cellper),'sample']#\n",
    "cellper$group <- samples[rownames(cellper),'group']\n",
    "\n",
    "pplist = list()\n",
    "sce_groups = unique(scedata$celltype)\n",
    "\n",
    "library(ggplot2)\n",
    "library(dplyr)\n",
    "library(ggpubr)\n",
    "library(cowplot)"
   ]
  },
  {
   "cell_type": "code",
   "execution_count": 25,
   "id": "fb4dc1d0-51cb-47e3-a156-c6faf8e9cdb3",
   "metadata": {},
   "outputs": [
    {
     "data": {
      "text/html": [
       "<style>\n",
       ".list-inline {list-style: none; margin:0; padding: 0}\n",
       ".list-inline>li {display: inline-block}\n",
       ".list-inline>li:not(:last-child)::after {content: \"\\00b7\"; padding: 0 .5ex}\n",
       "</style>\n",
       "<ol class=list-inline><li>Ast</li><li>ExN</li><li>InN</li><li>OPC</li><li>Oli</li><li>End</li><li>Mic</li></ol>\n",
       "\n",
       "<details>\n",
       "\t<summary style=display:list-item;cursor:pointer>\n",
       "\t\t<strong>Levels</strong>:\n",
       "\t</summary>\n",
       "\t<style>\n",
       "\t.list-inline {list-style: none; margin:0; padding: 0}\n",
       "\t.list-inline>li {display: inline-block}\n",
       "\t.list-inline>li:not(:last-child)::after {content: \"\\00b7\"; padding: 0 .5ex}\n",
       "\t</style>\n",
       "\t<ol class=list-inline><li>'Ast'</li><li>'End'</li><li>'ExN'</li><li>'InN'</li><li>'Mic'</li><li>'Mix'</li><li>'OPC'</li><li>'Oli'</li></ol>\n",
       "</details>"
      ],
      "text/latex": [
       "\\begin{enumerate*}\n",
       "\\item Ast\n",
       "\\item ExN\n",
       "\\item InN\n",
       "\\item OPC\n",
       "\\item Oli\n",
       "\\item End\n",
       "\\item Mic\n",
       "\\end{enumerate*}\n",
       "\n",
       "\\emph{Levels}: \\begin{enumerate*}\n",
       "\\item 'Ast'\n",
       "\\item 'End'\n",
       "\\item 'ExN'\n",
       "\\item 'InN'\n",
       "\\item 'Mic'\n",
       "\\item 'Mix'\n",
       "\\item 'OPC'\n",
       "\\item 'Oli'\n",
       "\\end{enumerate*}\n"
      ],
      "text/markdown": [
       "1. Ast\n",
       "2. ExN\n",
       "3. InN\n",
       "4. OPC\n",
       "5. Oli\n",
       "6. End\n",
       "7. Mic\n",
       "\n",
       "\n",
       "\n",
       "**Levels**: 1. 'Ast'\n",
       "2. 'End'\n",
       "3. 'ExN'\n",
       "4. 'InN'\n",
       "5. 'Mic'\n",
       "6. 'Mix'\n",
       "7. 'OPC'\n",
       "8. 'Oli'\n",
       "\n",
       "\n"
      ],
      "text/plain": [
       "[1] Ast ExN InN OPC Oli End Mic\n",
       "Levels: Ast End ExN InN Mic Mix OPC Oli"
      ]
     },
     "metadata": {},
     "output_type": "display_data"
    }
   ],
   "source": [
    "sce_groups"
   ]
  },
  {
   "cell_type": "code",
   "execution_count": 26,
   "id": "2694743e-3fc1-40d0-88e7-fe9fc165c031",
   "metadata": {},
   "outputs": [
    {
     "data": {
      "text/plain": [
       "\n",
       "   Case Control \n",
       "     17      17 "
      ]
     },
     "metadata": {},
     "output_type": "display_data"
    }
   ],
   "source": [
    "table(ss1$Condition)"
   ]
  },
  {
   "cell_type": "code",
   "execution_count": 27,
   "id": "968ac511-6487-4788-ba4c-3471ca9bf181",
   "metadata": {},
   "outputs": [
    {
     "name": "stdout",
     "output_type": "stream",
     "text": [
      "[1] \"Ast\"\n",
      " [1] 0.02958199 0.02958199 0.02958199 0.11061246 0.11061246 0.02958199\n",
      " [7] 0.11061246 0.11061246 0.02958199 0.02958199 0.11061246 0.11061246\n",
      "[13] 0.11061246 0.11061246 0.11061246 0.02958199 0.11061246 0.11061246\n",
      "[19] 0.02958199 0.11061246 0.02958199 0.11061246 0.11061246 0.02958199\n",
      "[25] 0.11061246 0.02958199 0.02958199 0.02958199 0.02958199 0.02958199\n",
      "[31] 0.02958199 0.11061246 0.02958199 0.11061246\n",
      "[1] \"ExN\"\n",
      " [1] 0.6105429 0.6105429 0.6105429 0.5116156 0.5116156 0.6105429 0.5116156\n",
      " [8] 0.5116156 0.6105429 0.6105429 0.5116156 0.5116156 0.5116156 0.5116156\n",
      "[15] 0.5116156 0.6105429 0.5116156 0.5116156 0.6105429 0.5116156 0.6105429\n",
      "[22] 0.5116156 0.5116156 0.6105429 0.5116156 0.6105429 0.6105429 0.6105429\n",
      "[29] 0.6105429 0.6105429 0.6105429 0.5116156 0.6105429 0.5116156\n",
      "[1] \"InN\"\n",
      " [1] 0.2517806 0.2517806 0.2517806 0.2199219 0.2199219 0.2517806 0.2199219\n",
      " [8] 0.2199219 0.2517806 0.2517806 0.2199219 0.2199219 0.2199219 0.2199219\n",
      "[15] 0.2199219 0.2517806 0.2199219 0.2199219 0.2517806 0.2199219 0.2517806\n",
      "[22] 0.2199219 0.2199219 0.2517806 0.2199219 0.2517806 0.2517806 0.2517806\n",
      "[29] 0.2517806 0.2517806 0.2517806 0.2199219 0.2517806 0.2199219\n",
      "[1] \"OPC\"\n",
      " [1] 0.03917137 0.03917137 0.03917137 0.05756098 0.05756098 0.03917137\n",
      " [7] 0.05756098 0.05756098 0.03917137 0.03917137 0.05756098 0.05756098\n",
      "[13] 0.05756098 0.05756098 0.05756098 0.03917137 0.05756098 0.05756098\n",
      "[19] 0.03917137 0.05756098 0.03917137 0.05756098 0.05756098 0.03917137\n",
      "[25] 0.05756098 0.03917137 0.03917137 0.03917137 0.03917137 0.03917137\n",
      "[31] 0.03917137 0.05756098 0.03917137 0.05756098\n",
      "[1] \"Oli\"\n",
      " [1] 0.03442623 0.03442623 0.03442623 0.07756098 0.07756098 0.03442623\n",
      " [7] 0.07756098 0.07756098 0.03442623 0.03442623 0.07756098 0.07756098\n",
      "[13] 0.07756098 0.07756098 0.07756098 0.03442623 0.07756098 0.07756098\n",
      "[19] 0.03442623 0.07756098 0.03442623 0.07756098 0.07756098 0.03442623\n",
      "[25] 0.07756098 0.03442623 0.03442623 0.03442623 0.03442623 0.03442623\n",
      "[31] 0.03442623 0.07756098 0.03442623 0.07756098\n",
      "[1] \"End\"\n",
      " [1] 0.004670913 0.004670913 0.004670913 0.005240591 0.005240591 0.004670913\n",
      " [7] 0.005240591 0.005240591 0.004670913 0.004670913 0.005240591 0.005240591\n",
      "[13] 0.005240591 0.005240591 0.005240591 0.004670913 0.005240591 0.005240591\n",
      "[19] 0.004670913 0.005240591 0.004670913 0.005240591 0.005240591 0.004670913\n",
      "[25] 0.005240591 0.004670913 0.004670913 0.004670913 0.004670913 0.004670913\n",
      "[31] 0.004670913 0.005240591 0.004670913 0.005240591\n",
      "[1] \"Mic\"\n",
      " [1] 0.011972275 0.011972275 0.011972275 0.004764173 0.004764173 0.011972275\n",
      " [7] 0.004764173 0.004764173 0.011972275 0.011972275 0.004764173 0.004764173\n",
      "[13] 0.004764173 0.004764173 0.004764173 0.011972275 0.004764173 0.004764173\n",
      "[19] 0.011972275 0.004764173 0.011972275 0.004764173 0.004764173 0.011972275\n",
      "[25] 0.004764173 0.011972275 0.011972275 0.011972275 0.011972275 0.011972275\n",
      "[31] 0.011972275 0.004764173 0.011972275 0.004764173\n"
     ]
    }
   ],
   "source": [
    "\n",
    "for(group_ in sce_groups){\n",
    "  cellper_  = cellper %>% select(one_of(c('sample','group',group_)))#\n",
    "  colnames(cellper_) = c('sample','group','percent')\n",
    "  cellper_$percent = as.numeric(cellper_$percent)\n",
    "  cellper_ <- cellper_ %>% group_by(group) %>% mutate(upper =  quantile(percent, 0.75), \n",
    "                                                      lower = quantile(percent, 0.25),\n",
    "                                                      mean = mean(percent),\n",
    "                                                      median = median(percent))\n",
    "  print(group_)\n",
    "  print(cellper_$median)\n",
    "  \n",
    "  pp1 = ggplot(cellper_,aes(x=group,y=percent)) +\n",
    "    geom_jitter(shape = 21,aes(fill=group),width = 0.25) + \n",
    "    stat_summary(fun=mean, geom=\"point\", color=\"grey60\") +\n",
    "    theme_cowplot() +\n",
    "    theme(axis.text = element_text(size = 10),axis.title = element_text(size = 10),legend.text = element_text(size = 10),\n",
    "          legend.title = element_text(size = 10),plot.title = element_text(size = 10,face = 'plain'),legend.position = 'none') + \n",
    "    labs(title = group_,y='Percentage') +\n",
    "    geom_errorbar(aes(ymin = lower, ymax = upper),col = \"grey60\",width =  1)\n",
    "  labely = max(cellper_$percent)\n",
    "  compare_means(percent ~ group,  data = cellper_)\n",
    "  my_comparisons <- list( c(\"Control\", \"Case\") )\n",
    "  pp1 = pp1 + stat_compare_means(comparisons = my_comparisons,size = 3,method = 't.test')\n",
    "  pplist[[group_]] = pp1\n",
    "}"
   ]
  },
  {
   "cell_type": "code",
   "execution_count": 28,
   "id": "446d7a2b-8de2-4759-a15f-04dcb92c700e",
   "metadata": {},
   "outputs": [],
   "source": [
    "options(repr.plot.width = 9,repr.plot.height = 12)"
   ]
  },
  {
   "cell_type": "code",
   "execution_count": 29,
   "id": "ea68738f-856e-4916-a23c-018fafb321e4",
   "metadata": {},
   "outputs": [],
   "source": [
    "library(cowplot)\n",
    "# pdf('./figure/cell.ratio.sc.pdf',width = 12,height = 12)\n",
    "# plot_grid(pplist[[1]],\n",
    "#           pplist[[2]],\n",
    "#           pplist[[3]],\n",
    "#           pplist[[4]],\n",
    "#           pplist[[5]],\n",
    "#           pplist[[6]],\n",
    "#           pplist[[7]])\n",
    "# dev.off()"
   ]
  },
  {
   "cell_type": "code",
   "execution_count": 30,
   "id": "8c80579a-6b90-4ae1-9416-2405bf3d1efe",
   "metadata": {},
   "outputs": [
    {
     "data": {
      "text/plain": [
       "     \n",
       "          M\n",
       "  Ast  5602\n",
       "  End   412\n",
       "  ExN 44058\n",
       "  InN 17599\n",
       "  Mic   841\n",
       "  Mix     0\n",
       "  OPC  3619\n",
       "  Oli  5848"
      ]
     },
     "metadata": {},
     "output_type": "display_data"
    }
   ],
   "source": [
    "table(scedata$celltype,scedata$group)"
   ]
  },
  {
   "cell_type": "code",
   "execution_count": 31,
   "id": "96e19ec5-3d5f-4624-8e2c-8ce12fec08a6",
   "metadata": {},
   "outputs": [],
   "source": [
    "sce = scedata"
   ]
  },
  {
   "cell_type": "code",
   "execution_count": 32,
   "id": "3beff1ad-34aa-4a1e-b7b5-7fc4cb46b2f7",
   "metadata": {},
   "outputs": [],
   "source": [
    "model.gene = c('HIST1H4C','PRSS3','TUSC3')\n",
    "DefaultAssay(sce) = 'RNA'\n",
    "Idents(sce) = 'Condition'\n",
    "options(repr.plot.width = 6,repr.plot.height = 4)"
   ]
  },
  {
   "cell_type": "code",
   "execution_count": 33,
   "id": "abb8823a-77a6-4126-9b08-fa3e4475abe3",
   "metadata": {},
   "outputs": [
    {
     "name": "stderr",
     "output_type": "stream",
     "text": [
      "Warning message:\n",
      "\"Scaling data with a low number of groups may produce misleading results\"\n"
     ]
    },
    {
     "data": {
      "image/png": "[encoded data removed]",
      "text/plain": [
       "plot without title"
      ]
     },
     "metadata": {
      "image/png": {
       "height": 240,
       "width": 360
      }
     },
     "output_type": "display_data"
    }
   ],
   "source": [
    "DotPlot(sce,features = model.gene)"
   ]
  },
  {
   "cell_type": "code",
   "execution_count": 34,
   "id": "e2fa8a82-4005-401e-b341-cf11fb0c4931",
   "metadata": {},
   "outputs": [],
   "source": [
    "ggsave('./figure2/singlecell/model.gene.sc1.pdf',width = 5,height = 5)"
   ]
  },
  {
   "cell_type": "code",
   "execution_count": 35,
   "id": "5bea9630-e798-4cf2-a930-4d16fbdefc58",
   "metadata": {},
   "outputs": [
    {
     "data": {
      "image/png": "[encoded data removed]",
      "text/plain": [
       "plot without title"
      ]
     },
     "metadata": {
      "image/png": {
       "height": 240,
       "width": 360
      }
     },
     "output_type": "display_data"
    }
   ],
   "source": [
    "feature = list(model.gene)\n",
    "sce <- AddModuleScore(sce,\n",
    "                          features = feature,\n",
    "                          ctrl = 100,\n",
    "                          name = 'model_related')\n",
    "Idents(sce) = 'celltype'\n",
    "DotPlot(sce,features = 'model_related1')+ggtitle('model_related1')"
   ]
  },
  {
   "cell_type": "code",
   "execution_count": 36,
   "id": "c5d82f16-c8f8-4b2c-817d-0e25a8b90373",
   "metadata": {},
   "outputs": [],
   "source": [
    "ggsave('./figure2/singlecell/model.gene.sc2.pdf',width = 5,height = 5)"
   ]
  },
  {
   "cell_type": "code",
   "execution_count": 37,
   "id": "90c22ce3-0650-464f-b00f-d91c64ec04f1",
   "metadata": {},
   "outputs": [
    {
     "data": {
      "image/png": "[encoded data removed]",
      "text/plain": [
       "plot without title"
      ]
     },
     "metadata": {
      "image/png": {
       "height": 240,
       "width": 360
      }
     },
     "output_type": "display_data"
    }
   ],
   "source": [
    "DotPlot(sce,features = model.gene)"
   ]
  },
  {
   "cell_type": "code",
   "execution_count": 38,
   "id": "d75601d3-3841-4ac8-97ae-8469fef71dc6",
   "metadata": {},
   "outputs": [],
   "source": [
    "ggsave('./figure2/singlecell/model.gene.sc3.pdf',width = 5,height = 5)"
   ]
  },
  {
   "cell_type": "code",
   "execution_count": null,
   "id": "8c8cad9d-0e1c-4ea2-8f8a-f283e6fdbd19",
   "metadata": {},
   "outputs": [],
   "source": []
  }
 ],
 "metadata": {
  "kernelspec": {
   "display_name": "R",
   "language": "R",
   "name": "ir"
  },
  "language_info": {
   "codemirror_mode": "r",
   "file_extension": ".r",
   "mimetype": "text/x-r-source",
   "name": "R",
   "pygments_lexer": "r",
   "version": "4.2.2"
  }
 },
 "nbformat": 4,
 "nbformat_minor": 5
}
